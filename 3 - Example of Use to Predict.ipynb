{
 "cells": [
  {
   "cell_type": "markdown",
   "metadata": {},
   "source": [
    "<div class=\"alert alert-block alert-info\">\n",
    "<b>What is done here:</b> Use the PT_Get_Text.py to apply it to other texts.</div>"
   ]
  },
  {
   "cell_type": "code",
   "execution_count": null,
   "metadata": {},
   "outputs": [],
   "source": [
    "import PT_Get_Text\n",
    "import pandas as pd\n",
    "import pickle\n",
    "import os"
   ]
  },
  {
   "cell_type": "code",
   "execution_count": 1,
   "metadata": {
    "jupyter": {
     "source_hidden": true
    }
   },
   "outputs": [],
   "source": [
    "def limpa_texto(texto):\n",
    "    import re\n",
    "    texto = texto.replace('\\\\n','')\n",
    "    \n",
    "    texto = re.sub(r\"([0-9]*[\\.,]{0,2}[0-9])|(\\d? \\d)\", '', texto)\n",
    "\n",
    "    lista_de_vogais = ['A','E','I','O','U','a','e','i','o',\n",
    "                   'u','Á','Ã','À','Ä','Â','á','ã','à',\n",
    "                   'ä','â','É','È','Ë','Ê','é','è','ë',\n",
    "                   'ê','Í','Ì','Ï','Î','í','ì','ï','î',\n",
    "                   'Ó','Õ','Ò','Ö','Ô','ó','õ','ò','ö',\n",
    "                   'ô','Ú','Ù','Ü','Û','ú','ù','ü','û']\n",
    "\n",
    "    lista_de_consoantes = ['B','C','Ç','D','F','G','H','J','K',\n",
    "                           'L','M','N','Ñ','P','Q','R','S','T',\n",
    "                           'V','W','X','Y','Z','b','c','ç','d',\n",
    "                           'f','g','h','j','k','l','m','n','ñ',\n",
    "                           'p','q','r','s','t','v','w','x','y','z']\n",
    "\n",
    "    lista_de_pontuacao = ['.',':','.','…','!','?',',',\n",
    "                          '-','–',\n",
    "                          '(',')',\n",
    "                          '“','”','\"',\"'\",\"/\",\n",
    "                          ' ']\n",
    "    \n",
    "    return \"\". join([char for char in texto if char in lista_de_vogais or char in lista_de_consoantes or char in lista_de_pontuacao]).replace(' .,','').replace(' .,','')\n",
    "\n",
    "def Predict_Year(text):\n",
    "    '''\n",
    "    Recebe um texto (string) e devolve:\n",
    "    [0] -> Previsão do ano de escolaridade. [1-12]\n",
    "    [1] -> Previsão do difículdade baseada no ano de escolaridade [1-8]\n",
    "    '''\n",
    "#     text = limpa_texto(text)\n",
    "\n",
    "    list_cols = ['Words per sentence','Syllables per Word','Poly_Syl per Word','Verbs per Word','Noun per Word',\n",
    "                 'Adj per Word','Simp_Word_DC per Word','Simp_Word_1 per Word','Uniques_Per_Word','HH_Index',\n",
    "                 'count_SVO_found per word','count_SVO_found_in_a_row per word','count_SVO_elements_in_a_row per word']\n",
    "\n",
    "    stats = PT_Get_Text.Get_All_Text_Info(text)\n",
    "    map_columns = {n:i for n, i in zip(range(len(list_cols)), list_cols)}\n",
    "    DF = pd.DataFrame(stats).T.rename(map_columns, axis = 1)\n",
    "    \n",
    "    xg_reg_ai = pickle.load(open(\"xg_reg_ai.dat\", \"rb\"))\n",
    "    xg_reg_ne = pickle.load(open(\"xg_reg_ne.dat\", \"rb\"))\n",
    "    ano_pred = xg_reg_ai.predict(DF)\n",
    "    ne_pred = xg_reg_ne.predict(DF)\n",
    "    \n",
    "    return (ano_pred[0], ne_pred[0])\n",
    "\n",
    "def load_text(path, encoding = 'UTF-8'):\n",
    "    f = open(path, \"r\", encoding = encoding)\n",
    "    raw_text = f.read()    \n",
    "    raw_text = raw_text.replace('\\n',' ')\n",
    "    raw_text = raw_text.replace('    ',' ')\n",
    "    return raw_text\n",
    "\n",
    "def getListOfFiles(dirName):\n",
    "    import os\n",
    "    listOfFile = os.listdir(dirName)\n",
    "    allFiles = list()\n",
    "    for entry in listOfFile:\n",
    "        fullPath = os.path.join(dirName, entry)\n",
    "        if os.path.isdir(fullPath):\n",
    "            allFiles = allFiles + getListOfFiles(fullPath)\n",
    "        else:\n",
    "            allFiles.append(fullPath)\n",
    "    return allFiles"
   ]
  },
  {
   "cell_type": "code",
   "execution_count": 2,
   "metadata": {
    "jupyter": {
     "source_hidden": true
    }
   },
   "outputs": [],
   "source": [
    "#### Example calling out the function:\n",
    "fifth_grader_text = '''\n",
    "Resolvi chegar-me à janela e ver.\n",
    "Um vento cortante e desagradável movia os tristes raminhos, já mortos, de uma árvore deitada contra o pavimento esburacado da rua. Espectros enormes e claros no escuro da noite, erguiam-se a todo o longo da rua -eram o que restava de casas que tinham vivido, alegres, em tempos mais felizes. Um velho tanque, amolgado e dilacerado dava uma nota ainda mais sombria a este cenário já de si tão aterrador. \n",
    "De quando em quando, sentia-se o rolar sinistro de uma pedra, batendo contra o chão. Um ruído triste, vago como um murmúrio!...\n",
    "No pouco que restava do passeio, dando pontapés nos escombros que se lhe atravessavam no caminho, um homem fardado prosseguia a sua ronda. Os seus passos soavam, incansáveis, monótonos, irritantes. Numa casa ainda habitável, mesmo defronte, um grupo de pessoas , a avaliar pelas vozes que, de vez em quando se faziam ouvir, tentavam sintonizar um aparelho de rádio, querendo, talvez, saber quando acabaria “aquilo”.\n",
    "Ouviam-se, longe, notas altas e desafinadas.\n",
    "Era um velho piano…\n",
    "Passou-se uma hora lenta, muito lenta. E tudo continuava calmo. Mas, de repente, no meio da calma da noite fria, começou a ouvir-se um silvo penetrante e agudíssimo, lamentoso, como que a anunciar a morte.\n",
    "A rua pareceu viver. Foi atravessada em todas as direções por pessoas com o terror estampado no rosto, que procuravam refúgios nas ruínas e entrada nos subterrâneos e esconderijos.\n",
    "O piano calou-se abruptamente.\n",
    "Gritaram-me de dentro:\n",
    "- Depressa, para “baixo”!\n",
    "Em baixo era o nosso refúgio, desde que aquela sereia irritante nos chamava para enfrentar a morte.\n",
    "Deixei o sítio onde estava e precipitei-me para as escadas, embora pensando de que nada valeria. Fechei os olhos e cerrei os punhos com força, à espera de morrer. Mesmo sem querer só podia pensar se iria doer muito. Mas, se doesse, também não fazia mal- era a última vez que doía!\n",
    "Durou dez minutos. Dez minutos dos quais eu saí mais velha dez anos. Dez minutos que pareceram dez séculos. Finalmente, a maldita serei parou. Estávamos salvos, salvos! Ainda estava viva…\n",
    "Sim, mas quanto tempo mais?\n",
    "Saí à rua.\n",
    " Num dos ramos da árvore caída, esvoaçava um bocadinho de pano azul… da farda azul do homem que fazia a ronda.\n",
    " Pessoas removiam corpos sem uma lágrima, como rosto endurecido, resignado.\n",
    "- Não morremos desta! – disseram uns.\n",
    "-Pois não, é para a próxima! -  responderam, com voz rouca e raivosa, outros.\n",
    "Era a guerra!\n",
    "'''          \n",
    "Predict_Year(limpa_texto(fifth_grader_text))"
   ]
  },
  {
   "cell_type": "markdown",
   "metadata": {},
   "source": [
    "###### Looking at some newspaper articles"
   ]
  },
  {
   "cell_type": "code",
   "execution_count": 14,
   "metadata": {},
   "outputs": [
    {
     "name": "stdout",
     "output_type": "stream",
     "text": [
      "{'tokenizer': True, 'pos_tagger': True, 'lemmatizer': True, 'entity_recognition': False, 'np_chunking': False, 'pre_load': True, 'string_or_array': True}\n"
     ]
    }
   ],
   "source": [
    "# These files were in sub-folders one for each newspaper.\n",
    "# I personally used a paid subscription to Factiva... not uploading here the files, copyrighted.\n",
    "file_names = []\n",
    "scores = []\n",
    "\n",
    "my_list_of_files = getListOfFiles('C:\\\\Users\\\\MYUSER\\\\[...]') #### Wrute the parent directory here.\n",
    "\n",
    "for i in range(len(my_list_of_files)):\n",
    "    file_names.append(my_list_of_files[i].replace('C:\\\\Users\\\\MYUSER\\\\[...]',\"\"))\n",
    "    scores.append(Predict_Year(limpa_texto(load_text(my_list_of_files[i]))))\n",
    "\n",
    "JornaisDF = pd.DataFrame(list(zip([file.split('\\\\')[0] for file in file_names],\n",
    "                                  [file.split('\\\\')[1] for file in file_names],\n",
    "                                  [score[0] for score in scores],\n",
    "                                  [score[1] for score in scores])))\n",
    "\n",
    "JornaisDF = JornaisDF.rename({0:'Jornal',1:'Artigo',2:'Idade',3:'NE'}, axis = 1)"
   ]
  },
  {
   "cell_type": "code",
   "execution_count": 25,
   "metadata": {
    "collapsed": true,
    "jupyter": {
     "outputs_hidden": true
    }
   },
   "outputs": [
    {
     "data": {
      "text/html": [
       "<div>\n",
       "<style scoped>\n",
       "    .dataframe tbody tr th:only-of-type {\n",
       "        vertical-align: middle;\n",
       "    }\n",
       "\n",
       "    .dataframe tbody tr th {\n",
       "        vertical-align: top;\n",
       "    }\n",
       "\n",
       "    .dataframe thead th {\n",
       "        text-align: right;\n",
       "    }\n",
       "</style>\n",
       "<table border=\"1\" class=\"dataframe\">\n",
       "  <thead>\n",
       "    <tr style=\"text-align: right;\">\n",
       "      <th></th>\n",
       "      <th>Idade</th>\n",
       "      <th>NE</th>\n",
       "    </tr>\n",
       "  </thead>\n",
       "  <tbody>\n",
       "    <tr>\n",
       "      <th>count</th>\n",
       "      <td>54.000000</td>\n",
       "      <td>54.000000</td>\n",
       "    </tr>\n",
       "    <tr>\n",
       "      <th>mean</th>\n",
       "      <td>4.586684</td>\n",
       "      <td>4.839627</td>\n",
       "    </tr>\n",
       "    <tr>\n",
       "      <th>std</th>\n",
       "      <td>1.127124</td>\n",
       "      <td>0.737889</td>\n",
       "    </tr>\n",
       "    <tr>\n",
       "      <th>min</th>\n",
       "      <td>2.731640</td>\n",
       "      <td>2.337756</td>\n",
       "    </tr>\n",
       "    <tr>\n",
       "      <th>25%</th>\n",
       "      <td>3.831310</td>\n",
       "      <td>4.422168</td>\n",
       "    </tr>\n",
       "    <tr>\n",
       "      <th>50%</th>\n",
       "      <td>4.436515</td>\n",
       "      <td>4.904546</td>\n",
       "    </tr>\n",
       "    <tr>\n",
       "      <th>75%</th>\n",
       "      <td>5.200746</td>\n",
       "      <td>5.403459</td>\n",
       "    </tr>\n",
       "    <tr>\n",
       "      <th>max</th>\n",
       "      <td>8.621509</td>\n",
       "      <td>5.854350</td>\n",
       "    </tr>\n",
       "  </tbody>\n",
       "</table>\n",
       "</div>"
      ],
      "text/plain": [
       "           Idade         NE\n",
       "count  54.000000  54.000000\n",
       "mean    4.586684   4.839627\n",
       "std     1.127124   0.737889\n",
       "min     2.731640   2.337756\n",
       "25%     3.831310   4.422168\n",
       "50%     4.436515   4.904546\n",
       "75%     5.200746   5.403459\n",
       "max     8.621509   5.854350"
      ]
     },
     "execution_count": 25,
     "metadata": {},
     "output_type": "execute_result"
    }
   ],
   "source": [
    "JornaisDF.describe()"
   ]
  },
  {
   "cell_type": "code",
   "execution_count": 16,
   "metadata": {
    "collapsed": true,
    "jupyter": {
     "outputs_hidden": true
    }
   },
   "outputs": [
    {
     "data": {
      "text/html": [
       "<div>\n",
       "<style scoped>\n",
       "    .dataframe tbody tr th:only-of-type {\n",
       "        vertical-align: middle;\n",
       "    }\n",
       "\n",
       "    .dataframe tbody tr th {\n",
       "        vertical-align: top;\n",
       "    }\n",
       "\n",
       "    .dataframe thead th {\n",
       "        text-align: right;\n",
       "    }\n",
       "</style>\n",
       "<table border=\"1\" class=\"dataframe\">\n",
       "  <thead>\n",
       "    <tr style=\"text-align: right;\">\n",
       "      <th></th>\n",
       "      <th>Idade</th>\n",
       "      <th>NE</th>\n",
       "    </tr>\n",
       "    <tr>\n",
       "      <th>Jornal</th>\n",
       "      <th></th>\n",
       "      <th></th>\n",
       "    </tr>\n",
       "  </thead>\n",
       "  <tbody>\n",
       "    <tr>\n",
       "      <th>Correio da Manha</th>\n",
       "      <td>4.735869</td>\n",
       "      <td>5.259427</td>\n",
       "    </tr>\n",
       "    <tr>\n",
       "      <th>Jornal de Negócios</th>\n",
       "      <td>4.021949</td>\n",
       "      <td>4.258791</td>\n",
       "    </tr>\n",
       "    <tr>\n",
       "      <th>Observador</th>\n",
       "      <td>4.568733</td>\n",
       "      <td>4.934166</td>\n",
       "    </tr>\n",
       "    <tr>\n",
       "      <th>Publico</th>\n",
       "      <td>5.075145</td>\n",
       "      <td>4.824700</td>\n",
       "    </tr>\n",
       "  </tbody>\n",
       "</table>\n",
       "</div>"
      ],
      "text/plain": [
       "                       Idade        NE\n",
       "Jornal                                \n",
       "Correio da Manha    4.735869  5.259427\n",
       "Jornal de Negócios  4.021949  4.258791\n",
       "Observador          4.568733  4.934166\n",
       "Publico             5.075145  4.824700"
      ]
     },
     "execution_count": 16,
     "metadata": {},
     "output_type": "execute_result"
    }
   ],
   "source": [
    "JornaisDF.groupby('Jornal').mean()"
   ]
  },
  {
   "cell_type": "code",
   "execution_count": 1,
   "metadata": {},
   "outputs": [],
   "source": [
    "##### Random text from Banco de Portugal's Boletim Económico Publication.\n",
    "Boletim_Economico = '''\n",
    "A recuperação da atividade mundial ocorre ao longo do horizonte de projeção. As hipóteses para o enquadramento internacional têm subjacente um crescimento económico mundial de 6,2%\n",
    "em 2021 e um abrandamento para 4,0% e 3,5% em 2022 e 2023 (Quadro I.2.1). O crescimento foi revisto em alta especialmente em 2021 devido ao crescimento mais forte do que o antecipado no\n",
    "final de 2020, ao acordo de comércio entre o Reino Unido e a União Europeia e ao pacote de estímulo orçamental dos Estados Unidos da América anunciado em dezembro. Para a área do euro,\n",
    "as projeções do Banco Central Europeu (BCE) apresentam um crescimento económico de 4,0% em\n",
    "2021, 4,1% em 2022 e 2,1% em 2023, praticamente inalterado face ao exercício de dezembro. No\n",
    "final de 2020 e início de 2021, a atividade na área do euro tem sido afetada pelo recrudescimento\n",
    "da pandemia e das medidas de confinamento, estimando-se um impacto mais reduzido do que\n",
    "o observado no primeiro trimestre do ano passado.\n",
    "O padrão de crescimento global é diferenciado entre regiões e setores de atividade. As economias de mercado emergentes, em particular a China, têm registado um crescimento mais dinâmico\n",
    "do que as economias avançadas. Adicionalmente, a recuperação do comércio mundial deverá ser\n",
    "mais atenuada nos serviços, em particular nas viagens e turismo. Por seu lado, as trocas internacionais de bens têm revelado maior resiliência. Neste contexto, a procura externa deverá recuperar\n",
    "menos do que o comércio mundial, com um crescimento de 7,4% em 2021, desacelerando para 3,5% em 2023.\n",
    "Os preços das matérias-primas aumentam, refletindo sobretudo a recuperação da atividade.\n",
    "As hipóteses atuais incluem um aumento do preço médio do petróleo face ao anterior exercício\n",
    "de projeção, para 59,3 dólares por barril em 2021, descendo gradualmente para 53,7 dólares em\n",
    "2023. As hipóteses incluem uma apreciação do euro de 1,8% em 2021, refletindo a apreciação\n",
    "dos últimos meses face ao dólar.\n",
    "As condições monetárias e financeiras deverão manter-se favoráveis ao longo do horizonte\n",
    "de projeção, sustentadas por políticas monetárias acomodatícias. Na área do euro, assumem-se taxas de juro de curto e longo prazo estáveis e próximas dos níveis atuais ao longo de todo\n",
    "o horizonte de projeção. A taxa de juro implícita da dívida pública portuguesa apresenta um perfil\n",
    "descendente, de 2,0% em 2021 até 1,8% em 2023.\n",
    "'''\n",
    "Predict_Year(limpa_texto(Boletim_Economico))"
   ]
  }
 ],
 "metadata": {
  "kernelspec": {
   "display_name": "Python 3",
   "language": "python",
   "name": "python3"
  },
  "language_info": {
   "codemirror_mode": {
    "name": "ipython",
    "version": 3
   },
   "file_extension": ".py",
   "mimetype": "text/x-python",
   "name": "python",
   "nbconvert_exporter": "python",
   "pygments_lexer": "ipython3",
   "version": "3.8.2"
  }
 },
 "nbformat": 4,
 "nbformat_minor": 4
}
